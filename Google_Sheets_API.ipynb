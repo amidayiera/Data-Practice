{
  "nbformat": 4,
  "nbformat_minor": 0,
  "metadata": {
    "colab": {
      "name": "Google Sheets API",
      "provenance": [],
      "authorship_tag": "ABX9TyNTir2/rfn4TSl9MsqFUAi/"
    },
    "kernelspec": {
      "name": "python3",
      "display_name": "Python 3"
    },
    "language_info": {
      "name": "python"
    }
  },
  "cells": [
    {
      "cell_type": "code",
      "source": [
        "# install library\n",
        "# !python3 -m pip install gspread"
      ],
      "metadata": {
        "colab": {
          "base_uri": "https://localhost:8080/"
        },
        "id": "7tS2795uICxi",
        "outputId": "20d116b1-271e-4f25-c61e-bd11a5f580fa"
      },
      "execution_count": 44,
      "outputs": [
        {
          "output_type": "stream",
          "name": "stdout",
          "text": [
            "Requirement already satisfied: gspread in /usr/local/lib/python3.7/dist-packages (3.4.2)\n",
            "Requirement already satisfied: requests>=2.2.1 in /usr/local/lib/python3.7/dist-packages (from gspread) (2.23.0)\n",
            "Requirement already satisfied: google-auth in /usr/local/lib/python3.7/dist-packages (from gspread) (1.35.0)\n",
            "Requirement already satisfied: certifi>=2017.4.17 in /usr/local/lib/python3.7/dist-packages (from requests>=2.2.1->gspread) (2021.10.8)\n",
            "Requirement already satisfied: chardet<4,>=3.0.2 in /usr/local/lib/python3.7/dist-packages (from requests>=2.2.1->gspread) (3.0.4)\n",
            "Requirement already satisfied: urllib3!=1.25.0,!=1.25.1,<1.26,>=1.21.1 in /usr/local/lib/python3.7/dist-packages (from requests>=2.2.1->gspread) (1.24.3)\n",
            "Requirement already satisfied: idna<3,>=2.5 in /usr/local/lib/python3.7/dist-packages (from requests>=2.2.1->gspread) (2.10)\n",
            "Requirement already satisfied: pyasn1-modules>=0.2.1 in /usr/local/lib/python3.7/dist-packages (from google-auth->gspread) (0.2.8)\n",
            "Requirement already satisfied: six>=1.9.0 in /usr/local/lib/python3.7/dist-packages (from google-auth->gspread) (1.15.0)\n",
            "Requirement already satisfied: cachetools<5.0,>=2.0.0 in /usr/local/lib/python3.7/dist-packages (from google-auth->gspread) (4.2.4)\n",
            "Requirement already satisfied: setuptools>=40.3.0 in /usr/local/lib/python3.7/dist-packages (from google-auth->gspread) (57.4.0)\n",
            "Requirement already satisfied: rsa<5,>=3.1.4 in /usr/local/lib/python3.7/dist-packages (from google-auth->gspread) (4.8)\n",
            "Requirement already satisfied: pyasn1<0.5.0,>=0.4.6 in /usr/local/lib/python3.7/dist-packages (from pyasn1-modules>=0.2.1->google-auth->gspread) (0.4.8)\n"
          ]
        }
      ]
    },
    {
      "cell_type": "code",
      "source": [
        "# ! pip install --upgrade google-api-python-client google-auth-httplib2 google-auth-oauthlib"
      ],
      "metadata": {
        "id": "Xm0aAMsAOrRV"
      },
      "execution_count": 34,
      "outputs": []
    },
    {
      "cell_type": "code",
      "source": [
        "# ! python3 -m pip install Faker"
      ],
      "metadata": {
        "colab": {
          "base_uri": "https://localhost:8080/"
        },
        "id": "2ZQMKvnV6ROJ",
        "outputId": "9222f8b5-d1f4-4396-965c-875a283bfe80"
      },
      "execution_count": 43,
      "outputs": [
        {
          "output_type": "stream",
          "name": "stdout",
          "text": [
            "Collecting Faker\n",
            "  Downloading Faker-13.4.0-py3-none-any.whl (1.5 MB)\n",
            "\u001b[?25l\r\u001b[K     |▏                               | 10 kB 9.0 MB/s eta 0:00:01\r\u001b[K     |▍                               | 20 kB 13.1 MB/s eta 0:00:01\r\u001b[K     |▋                               | 30 kB 16.4 MB/s eta 0:00:01\r\u001b[K     |▉                               | 40 kB 19.0 MB/s eta 0:00:01\r\u001b[K     |█                               | 51 kB 20.8 MB/s eta 0:00:01\r\u001b[K     |█▎                              | 61 kB 23.4 MB/s eta 0:00:01\r\u001b[K     |█▌                              | 71 kB 25.5 MB/s eta 0:00:01\r\u001b[K     |█▊                              | 81 kB 22.3 MB/s eta 0:00:01\r\u001b[K     |██                              | 92 kB 23.7 MB/s eta 0:00:01\r\u001b[K     |██▏                             | 102 kB 22.3 MB/s eta 0:00:01\r\u001b[K     |██▍                             | 112 kB 22.3 MB/s eta 0:00:01\r\u001b[K     |██▋                             | 122 kB 22.3 MB/s eta 0:00:01\r\u001b[K     |██▉                             | 133 kB 22.3 MB/s eta 0:00:01\r\u001b[K     |███                             | 143 kB 22.3 MB/s eta 0:00:01\r\u001b[K     |███▎                            | 153 kB 22.3 MB/s eta 0:00:01\r\u001b[K     |███▌                            | 163 kB 22.3 MB/s eta 0:00:01\r\u001b[K     |███▋                            | 174 kB 22.3 MB/s eta 0:00:01\r\u001b[K     |███▉                            | 184 kB 22.3 MB/s eta 0:00:01\r\u001b[K     |████                            | 194 kB 22.3 MB/s eta 0:00:01\r\u001b[K     |████▎                           | 204 kB 22.3 MB/s eta 0:00:01\r\u001b[K     |████▌                           | 215 kB 22.3 MB/s eta 0:00:01\r\u001b[K     |████▊                           | 225 kB 22.3 MB/s eta 0:00:01\r\u001b[K     |█████                           | 235 kB 22.3 MB/s eta 0:00:01\r\u001b[K     |█████▏                          | 245 kB 22.3 MB/s eta 0:00:01\r\u001b[K     |█████▍                          | 256 kB 22.3 MB/s eta 0:00:01\r\u001b[K     |█████▋                          | 266 kB 22.3 MB/s eta 0:00:01\r\u001b[K     |█████▉                          | 276 kB 22.3 MB/s eta 0:00:01\r\u001b[K     |██████                          | 286 kB 22.3 MB/s eta 0:00:01\r\u001b[K     |██████▎                         | 296 kB 22.3 MB/s eta 0:00:01\r\u001b[K     |██████▌                         | 307 kB 22.3 MB/s eta 0:00:01\r\u001b[K     |██████▊                         | 317 kB 22.3 MB/s eta 0:00:01\r\u001b[K     |███████                         | 327 kB 22.3 MB/s eta 0:00:01\r\u001b[K     |███████                         | 337 kB 22.3 MB/s eta 0:00:01\r\u001b[K     |███████▎                        | 348 kB 22.3 MB/s eta 0:00:01\r\u001b[K     |███████▌                        | 358 kB 22.3 MB/s eta 0:00:01\r\u001b[K     |███████▊                        | 368 kB 22.3 MB/s eta 0:00:01\r\u001b[K     |████████                        | 378 kB 22.3 MB/s eta 0:00:01\r\u001b[K     |████████▏                       | 389 kB 22.3 MB/s eta 0:00:01\r\u001b[K     |████████▍                       | 399 kB 22.3 MB/s eta 0:00:01\r\u001b[K     |████████▋                       | 409 kB 22.3 MB/s eta 0:00:01\r\u001b[K     |████████▉                       | 419 kB 22.3 MB/s eta 0:00:01\r\u001b[K     |█████████                       | 430 kB 22.3 MB/s eta 0:00:01\r\u001b[K     |█████████▎                      | 440 kB 22.3 MB/s eta 0:00:01\r\u001b[K     |█████████▌                      | 450 kB 22.3 MB/s eta 0:00:01\r\u001b[K     |█████████▊                      | 460 kB 22.3 MB/s eta 0:00:01\r\u001b[K     |██████████                      | 471 kB 22.3 MB/s eta 0:00:01\r\u001b[K     |██████████▏                     | 481 kB 22.3 MB/s eta 0:00:01\r\u001b[K     |██████████▍                     | 491 kB 22.3 MB/s eta 0:00:01\r\u001b[K     |██████████▋                     | 501 kB 22.3 MB/s eta 0:00:01\r\u001b[K     |██████████▊                     | 512 kB 22.3 MB/s eta 0:00:01\r\u001b[K     |███████████                     | 522 kB 22.3 MB/s eta 0:00:01\r\u001b[K     |███████████▏                    | 532 kB 22.3 MB/s eta 0:00:01\r\u001b[K     |███████████▍                    | 542 kB 22.3 MB/s eta 0:00:01\r\u001b[K     |███████████▋                    | 552 kB 22.3 MB/s eta 0:00:01\r\u001b[K     |███████████▉                    | 563 kB 22.3 MB/s eta 0:00:01\r\u001b[K     |████████████                    | 573 kB 22.3 MB/s eta 0:00:01\r\u001b[K     |████████████▎                   | 583 kB 22.3 MB/s eta 0:00:01\r\u001b[K     |████████████▌                   | 593 kB 22.3 MB/s eta 0:00:01\r\u001b[K     |████████████▊                   | 604 kB 22.3 MB/s eta 0:00:01\r\u001b[K     |█████████████                   | 614 kB 22.3 MB/s eta 0:00:01\r\u001b[K     |█████████████▏                  | 624 kB 22.3 MB/s eta 0:00:01\r\u001b[K     |█████████████▍                  | 634 kB 22.3 MB/s eta 0:00:01\r\u001b[K     |█████████████▋                  | 645 kB 22.3 MB/s eta 0:00:01\r\u001b[K     |█████████████▉                  | 655 kB 22.3 MB/s eta 0:00:01\r\u001b[K     |██████████████                  | 665 kB 22.3 MB/s eta 0:00:01\r\u001b[K     |██████████████▏                 | 675 kB 22.3 MB/s eta 0:00:01\r\u001b[K     |██████████████▍                 | 686 kB 22.3 MB/s eta 0:00:01\r\u001b[K     |██████████████▋                 | 696 kB 22.3 MB/s eta 0:00:01\r\u001b[K     |██████████████▉                 | 706 kB 22.3 MB/s eta 0:00:01\r\u001b[K     |███████████████                 | 716 kB 22.3 MB/s eta 0:00:01\r\u001b[K     |███████████████▎                | 727 kB 22.3 MB/s eta 0:00:01\r\u001b[K     |███████████████▌                | 737 kB 22.3 MB/s eta 0:00:01\r\u001b[K     |███████████████▊                | 747 kB 22.3 MB/s eta 0:00:01\r\u001b[K     |████████████████                | 757 kB 22.3 MB/s eta 0:00:01\r\u001b[K     |████████████████▏               | 768 kB 22.3 MB/s eta 0:00:01\r\u001b[K     |████████████████▍               | 778 kB 22.3 MB/s eta 0:00:01\r\u001b[K     |████████████████▋               | 788 kB 22.3 MB/s eta 0:00:01\r\u001b[K     |████████████████▉               | 798 kB 22.3 MB/s eta 0:00:01\r\u001b[K     |█████████████████               | 808 kB 22.3 MB/s eta 0:00:01\r\u001b[K     |█████████████████▎              | 819 kB 22.3 MB/s eta 0:00:01\r\u001b[K     |█████████████████▌              | 829 kB 22.3 MB/s eta 0:00:01\r\u001b[K     |█████████████████▊              | 839 kB 22.3 MB/s eta 0:00:01\r\u001b[K     |█████████████████▉              | 849 kB 22.3 MB/s eta 0:00:01\r\u001b[K     |██████████████████              | 860 kB 22.3 MB/s eta 0:00:01\r\u001b[K     |██████████████████▎             | 870 kB 22.3 MB/s eta 0:00:01\r\u001b[K     |██████████████████▌             | 880 kB 22.3 MB/s eta 0:00:01\r\u001b[K     |██████████████████▊             | 890 kB 22.3 MB/s eta 0:00:01\r\u001b[K     |███████████████████             | 901 kB 22.3 MB/s eta 0:00:01\r\u001b[K     |███████████████████▏            | 911 kB 22.3 MB/s eta 0:00:01\r\u001b[K     |███████████████████▍            | 921 kB 22.3 MB/s eta 0:00:01\r\u001b[K     |███████████████████▋            | 931 kB 22.3 MB/s eta 0:00:01\r\u001b[K     |███████████████████▉            | 942 kB 22.3 MB/s eta 0:00:01\r\u001b[K     |████████████████████            | 952 kB 22.3 MB/s eta 0:00:01\r\u001b[K     |████████████████████▎           | 962 kB 22.3 MB/s eta 0:00:01\r\u001b[K     |████████████████████▌           | 972 kB 22.3 MB/s eta 0:00:01\r\u001b[K     |████████████████████▊           | 983 kB 22.3 MB/s eta 0:00:01\r\u001b[K     |█████████████████████           | 993 kB 22.3 MB/s eta 0:00:01\r\u001b[K     |█████████████████████▏          | 1.0 MB 22.3 MB/s eta 0:00:01\r\u001b[K     |█████████████████████▎          | 1.0 MB 22.3 MB/s eta 0:00:01\r\u001b[K     |█████████████████████▌          | 1.0 MB 22.3 MB/s eta 0:00:01\r\u001b[K     |█████████████████████▊          | 1.0 MB 22.3 MB/s eta 0:00:01\r\u001b[K     |██████████████████████          | 1.0 MB 22.3 MB/s eta 0:00:01\r\u001b[K     |██████████████████████▏         | 1.1 MB 22.3 MB/s eta 0:00:01\r\u001b[K     |██████████████████████▍         | 1.1 MB 22.3 MB/s eta 0:00:01\r\u001b[K     |██████████████████████▋         | 1.1 MB 22.3 MB/s eta 0:00:01\r\u001b[K     |██████████████████████▉         | 1.1 MB 22.3 MB/s eta 0:00:01\r\u001b[K     |███████████████████████         | 1.1 MB 22.3 MB/s eta 0:00:01\r\u001b[K     |███████████████████████▎        | 1.1 MB 22.3 MB/s eta 0:00:01\r\u001b[K     |███████████████████████▌        | 1.1 MB 22.3 MB/s eta 0:00:01\r\u001b[K     |███████████████████████▊        | 1.1 MB 22.3 MB/s eta 0:00:01\r\u001b[K     |████████████████████████        | 1.1 MB 22.3 MB/s eta 0:00:01\r\u001b[K     |████████████████████████▏       | 1.1 MB 22.3 MB/s eta 0:00:01\r\u001b[K     |████████████████████████▍       | 1.2 MB 22.3 MB/s eta 0:00:01\r\u001b[K     |████████████████████████▋       | 1.2 MB 22.3 MB/s eta 0:00:01\r\u001b[K     |████████████████████████▊       | 1.2 MB 22.3 MB/s eta 0:00:01\r\u001b[K     |█████████████████████████       | 1.2 MB 22.3 MB/s eta 0:00:01\r\u001b[K     |█████████████████████████▏      | 1.2 MB 22.3 MB/s eta 0:00:01\r\u001b[K     |█████████████████████████▍      | 1.2 MB 22.3 MB/s eta 0:00:01\r\u001b[K     |█████████████████████████▋      | 1.2 MB 22.3 MB/s eta 0:00:01\r\u001b[K     |█████████████████████████▉      | 1.2 MB 22.3 MB/s eta 0:00:01\r\u001b[K     |██████████████████████████      | 1.2 MB 22.3 MB/s eta 0:00:01\r\u001b[K     |██████████████████████████▎     | 1.2 MB 22.3 MB/s eta 0:00:01\r\u001b[K     |██████████████████████████▌     | 1.3 MB 22.3 MB/s eta 0:00:01\r\u001b[K     |██████████████████████████▊     | 1.3 MB 22.3 MB/s eta 0:00:01\r\u001b[K     |███████████████████████████     | 1.3 MB 22.3 MB/s eta 0:00:01\r\u001b[K     |███████████████████████████▏    | 1.3 MB 22.3 MB/s eta 0:00:01\r\u001b[K     |███████████████████████████▍    | 1.3 MB 22.3 MB/s eta 0:00:01\r\u001b[K     |███████████████████████████▋    | 1.3 MB 22.3 MB/s eta 0:00:01\r\u001b[K     |███████████████████████████▉    | 1.3 MB 22.3 MB/s eta 0:00:01\r\u001b[K     |████████████████████████████    | 1.3 MB 22.3 MB/s eta 0:00:01\r\u001b[K     |████████████████████████████▎   | 1.3 MB 22.3 MB/s eta 0:00:01\r\u001b[K     |████████████████████████████▍   | 1.4 MB 22.3 MB/s eta 0:00:01\r\u001b[K     |████████████████████████████▋   | 1.4 MB 22.3 MB/s eta 0:00:01\r\u001b[K     |████████████████████████████▉   | 1.4 MB 22.3 MB/s eta 0:00:01\r\u001b[K     |█████████████████████████████   | 1.4 MB 22.3 MB/s eta 0:00:01\r\u001b[K     |█████████████████████████████▎  | 1.4 MB 22.3 MB/s eta 0:00:01\r\u001b[K     |█████████████████████████████▌  | 1.4 MB 22.3 MB/s eta 0:00:01\r\u001b[K     |█████████████████████████████▊  | 1.4 MB 22.3 MB/s eta 0:00:01\r\u001b[K     |██████████████████████████████  | 1.4 MB 22.3 MB/s eta 0:00:01\r\u001b[K     |██████████████████████████████▏ | 1.4 MB 22.3 MB/s eta 0:00:01\r\u001b[K     |██████████████████████████████▍ | 1.4 MB 22.3 MB/s eta 0:00:01\r\u001b[K     |██████████████████████████████▋ | 1.5 MB 22.3 MB/s eta 0:00:01\r\u001b[K     |██████████████████████████████▉ | 1.5 MB 22.3 MB/s eta 0:00:01\r\u001b[K     |███████████████████████████████ | 1.5 MB 22.3 MB/s eta 0:00:01\r\u001b[K     |███████████████████████████████▎| 1.5 MB 22.3 MB/s eta 0:00:01\r\u001b[K     |███████████████████████████████▌| 1.5 MB 22.3 MB/s eta 0:00:01\r\u001b[K     |███████████████████████████████▊| 1.5 MB 22.3 MB/s eta 0:00:01\r\u001b[K     |███████████████████████████████▉| 1.5 MB 22.3 MB/s eta 0:00:01\r\u001b[K     |████████████████████████████████| 1.5 MB 22.3 MB/s \n",
            "\u001b[?25hRequirement already satisfied: typing-extensions>=3.10.0.2 in /usr/local/lib/python3.7/dist-packages (from Faker) (4.1.1)\n",
            "Requirement already satisfied: python-dateutil>=2.4 in /usr/local/lib/python3.7/dist-packages (from Faker) (2.8.2)\n",
            "Requirement already satisfied: six>=1.5 in /usr/local/lib/python3.7/dist-packages (from python-dateutil>=2.4->Faker) (1.15.0)\n",
            "Installing collected packages: Faker\n",
            "Successfully installed Faker-13.4.0\n"
          ]
        }
      ]
    },
    {
      "cell_type": "code",
      "execution_count": 45,
      "metadata": {
        "id": "a3WMsekzFHlW"
      },
      "outputs": [],
      "source": [
        "import time\n",
        "import pandas as pd\n",
        "import gspread\n",
        "from faker import Faker\n",
        "\n",
        "from googleapiclient.discovery import build\n",
        "from google.oauth2 import service_account\n",
        "from oauth2client.service_account import ServiceAccountCredentials"
      ]
    },
    {
      "cell_type": "code",
      "source": [
        "SERVICE_ACCOUNT_FILE = '/content/gsheets_credentials.json'\n",
        "SCOPES = ['https://www.googleapis.com/auth/spreadsheets'] # change /sqlservice to /spreadsheets\n",
        "# possibly remove the admin thing at the end - done\n",
        "\n",
        "credentials = None\n",
        "# then set the creds to the ones we get\n",
        "credentials = service_account.Credentials.from_service_account_file(\n",
        "        SERVICE_ACCOUNT_FILE, scopes=SCOPES)"
      ],
      "metadata": {
        "id": "ykReN12gPsKt"
      },
      "execution_count": 5,
      "outputs": []
    },
    {
      "cell_type": "code",
      "source": [
        "spreadsheet_ID = '1GN5QABY-Mm39d34ljSbVc4nA0rTpaFy4BXS0CY1kZuQ'\n",
        "# spreadsheet name : Pandas to Gsheets"
      ],
      "metadata": {
        "id": "mMiaM2f2QUqy"
      },
      "execution_count": 6,
      "outputs": []
    },
    {
      "cell_type": "code",
      "source": [
        "# create the service\n",
        "service = build('sheets', 'v4', credentials=credentials)\n"
      ],
      "metadata": {
        "id": "YfZVIBfsQyaX"
      },
      "execution_count": 7,
      "outputs": []
    },
    {
      "cell_type": "code",
      "source": [
        "# call the sheets API and read data\n",
        "sheet = service.spreadsheets()\n",
        "result = sheet.values().get(spreadsheetId = spreadsheet_ID,\n",
        "                            range=\"Read!A1:H15\").execute()"
      ],
      "metadata": {
        "id": "FYPuAZKzRGwD"
      },
      "execution_count": 8,
      "outputs": []
    },
    {
      "cell_type": "code",
      "source": [
        "print(result)"
      ],
      "metadata": {
        "colab": {
          "base_uri": "https://localhost:8080/"
        },
        "id": "J1P3RwWOSnOA",
        "outputId": "9b68766a-6c4d-44aa-d962-b72481116a50"
      },
      "execution_count": 9,
      "outputs": [
        {
          "output_type": "stream",
          "name": "stdout",
          "text": [
            "{'range': 'Sheet1!A1:H15', 'majorDimension': 'ROWS', 'values': [['Date', 'ID', 'Age', 'Size', 'Number', 'Weight', 'Height', 'Length'], ['4/29/2022', '3ywKULMR', '23', '66', '65', '67', '18', '80'], ['4/4/2022', '50k^e6Nz', '72', '41', '50', '87', '75', '98'], ['4/26/2022', 'IJ6mwXo3', '58', '54', '71', '27', '52', '26'], ['4/28/2022', 'ZkEF!rqa', '4', '10', '25', '100', '79', '68'], ['4/5/2022', 'F_MBssRu', '96', '53', '42', '21', '22', '16'], ['4/18/2022', 'EenU!!s8', '95', '6', '86', '77', '62', '43'], ['4/1/2022', 'p-s_6teG', '48', '92', '40', '97', '56', '60'], ['4/7/2022', 'sMrNYyJN', '1', '12', '74', '29', '93', '63'], ['4/16/2022', '4xcQFZ5m', '49', '45', '55', '2', '44', '28'], ['4/17/2022', '5m-FAI+3', '90', '15', '39', '83', '88', '13'], ['4/24/2022', '!HXlYJnd', '89', '69', '73', '91', '46', '19'], ['4/8/2022', 'rK2rBwUm', '85', '5', '31', '37', '81', '3'], ['4/22/2022', 'qEnaMeld', '8', '51', '14', '61', '99', '64'], ['4/2/2022', 'at0AT+ZK', '35', '94', '70', '76', '0', '11']]}\n"
          ]
        }
      ]
    },
    {
      "cell_type": "code",
      "source": [
        "# print result in list form, easier to work with (list of lists)\n",
        "values = result.get('values', [])\n",
        "print(values)"
      ],
      "metadata": {
        "colab": {
          "base_uri": "https://localhost:8080/"
        },
        "id": "mcIsmEn7cd5n",
        "outputId": "b4caec2e-c336-42c9-f3d5-d5fb260b021d"
      },
      "execution_count": 10,
      "outputs": [
        {
          "output_type": "stream",
          "name": "stdout",
          "text": [
            "[['Date', 'ID', 'Age', 'Size', 'Number', 'Weight', 'Height', 'Length'], ['4/29/2022', '3ywKULMR', '23', '66', '65', '67', '18', '80'], ['4/4/2022', '50k^e6Nz', '72', '41', '50', '87', '75', '98'], ['4/26/2022', 'IJ6mwXo3', '58', '54', '71', '27', '52', '26'], ['4/28/2022', 'ZkEF!rqa', '4', '10', '25', '100', '79', '68'], ['4/5/2022', 'F_MBssRu', '96', '53', '42', '21', '22', '16'], ['4/18/2022', 'EenU!!s8', '95', '6', '86', '77', '62', '43'], ['4/1/2022', 'p-s_6teG', '48', '92', '40', '97', '56', '60'], ['4/7/2022', 'sMrNYyJN', '1', '12', '74', '29', '93', '63'], ['4/16/2022', '4xcQFZ5m', '49', '45', '55', '2', '44', '28'], ['4/17/2022', '5m-FAI+3', '90', '15', '39', '83', '88', '13'], ['4/24/2022', '!HXlYJnd', '89', '69', '73', '91', '46', '19'], ['4/8/2022', 'rK2rBwUm', '85', '5', '31', '37', '81', '3'], ['4/22/2022', 'qEnaMeld', '8', '51', '14', '61', '99', '64'], ['4/2/2022', 'at0AT+ZK', '35', '94', '70', '76', '0', '11']]\n"
          ]
        }
      ]
    },
    {
      "cell_type": "code",
      "source": [
        "new_list = [[\"Name\",\"Number\"],[\"Alice\",300], [\"Bob\", 400]]"
      ],
      "metadata": {
        "id": "mg79gzM0i4WY"
      },
      "execution_count": 12,
      "outputs": []
    },
    {
      "cell_type": "code",
      "source": [
        "request = sheet.values().update(spreadsheetId=spreadsheet_ID, \n",
        "                                range=\"Write!B2\",\n",
        "                                valueInputOption=\"USER_ENTERED\", \n",
        "                                body={\"values\":new_list})\n",
        "response = request.execute()"
      ],
      "metadata": {
        "id": "u3zxkpD_clxe"
      },
      "execution_count": 15,
      "outputs": []
    },
    {
      "cell_type": "code",
      "source": [
        "print(request)"
      ],
      "metadata": {
        "colab": {
          "base_uri": "https://localhost:8080/"
        },
        "id": "PLy5f_h_jo1x",
        "outputId": "3c3a2915-1aed-472d-a7ad-a53ecf607118"
      },
      "execution_count": 16,
      "outputs": [
        {
          "output_type": "stream",
          "name": "stdout",
          "text": [
            "<googleapiclient.http.HttpRequest object at 0x7f8b52e37190>\n"
          ]
        }
      ]
    },
    {
      "cell_type": "markdown",
      "source": [
        "## Python Gspread Tutorial + How To Use the Google Sheets API with Python"
      ],
      "metadata": {
        "id": "Ol3s8DcVnSza"
      }
    },
    {
      "cell_type": "code",
      "source": [
        "# access\n",
        "scopes = ['https://www.googleapis.com/auth/spreadsheets',\n",
        "          'https://www.googleapis.com/auth/drive.file',\n",
        "          'https://www.googleapis.com/auth/drive'] \n",
        "\n",
        "creds = ServiceAccountCredentials.from_json_keyfile_name(SERVICE_ACCOUNT_FILE, scopes)          \n",
        "client = gspread.authorize(creds)"
      ],
      "metadata": {
        "id": "ckOOi6d2naGh"
      },
      "execution_count": 24,
      "outputs": []
    },
    {
      "cell_type": "code",
      "source": [
        "# gspread_test = client.open(\"Pandas to GSheets\").sheet1\n",
        "gspread_test = client.open(\"Pandas to GSheets\").worksheet(\"Gspread\")"
      ],
      "metadata": {
        "id": "54qjfQ_VnznO"
      },
      "execution_count": 25,
      "outputs": []
    },
    {
      "cell_type": "code",
      "source": [
        "# specify the row then column and write to that particular cell\n",
        "gspread_test.update_cell(1,1, \"Hello World\")"
      ],
      "metadata": {
        "colab": {
          "base_uri": "https://localhost:8080/"
        },
        "id": "LGCk5jGwoV1H",
        "outputId": "3ec76615-d679-4ab6-f8b5-a2d97892c195"
      },
      "execution_count": 26,
      "outputs": [
        {
          "output_type": "execute_result",
          "data": {
            "text/plain": [
              "{'spreadsheetId': '1GN5QABY-Mm39d34ljSbVc4nA0rTpaFy4BXS0CY1kZuQ',\n",
              " 'updatedCells': 1,\n",
              " 'updatedColumns': 1,\n",
              " 'updatedRange': 'Gspread!A1',\n",
              " 'updatedRows': 1}"
            ]
          },
          "metadata": {},
          "execution_count": 26
        }
      ]
    },
    {
      "cell_type": "code",
      "source": [
        "# loop through cells to read the data\n",
        "i = 1\n",
        "while gspread_test.cell(i,1).value != \"\":\n",
        "  i += 1\n",
        "  # time.sleep(1)  #sometimes theres a limit of whe\n",
        "gspread_test.update_cell(i,1, \"GoodMorning\")"
      ],
      "metadata": {
        "colab": {
          "base_uri": "https://localhost:8080/"
        },
        "id": "ZKkQn-dlrfCG",
        "outputId": "c7cbcee7-c3c9-4254-b1dd-2b04ed8c8caf"
      },
      "execution_count": 32,
      "outputs": [
        {
          "output_type": "execute_result",
          "data": {
            "text/plain": [
              "{'spreadsheetId': '1GN5QABY-Mm39d34ljSbVc4nA0rTpaFy4BXS0CY1kZuQ',\n",
              " 'updatedCells': 1,\n",
              " 'updatedColumns': 1,\n",
              " 'updatedRange': 'Gspread!A115',\n",
              " 'updatedRows': 1}"
            ]
          },
          "metadata": {},
          "execution_count": 32
        }
      ]
    },
    {
      "cell_type": "code",
      "source": [
        "# loop through cells to read the data\n",
        "i = 1\n",
        "j = 1\n",
        "while gspread_test.cell(i,j).value != \"\":\n",
        "  i += 1\n",
        "  j += 1\n",
        "\n",
        "gspread_test.update_cell(i,j, \"GoodBye\")"
      ],
      "metadata": {
        "colab": {
          "base_uri": "https://localhost:8080/"
        },
        "id": "bHSoGXhuqEpm",
        "outputId": "0980690d-b8d5-4461-bbe3-e98a6e1ec256"
      },
      "execution_count": 30,
      "outputs": [
        {
          "output_type": "execute_result",
          "data": {
            "text/plain": [
              "{'spreadsheetId': '1GN5QABY-Mm39d34ljSbVc4nA0rTpaFy4BXS0CY1kZuQ',\n",
              " 'updatedCells': 1,\n",
              " 'updatedColumns': 1,\n",
              " 'updatedRange': 'Gspread!D4',\n",
              " 'updatedRows': 1}"
            ]
          },
          "metadata": {},
          "execution_count": 30
        }
      ]
    },
    {
      "cell_type": "markdown",
      "source": [
        "## Pandas df to Google Sheets\n"
      ],
      "metadata": {
        "id": "JKWqhrlYraie"
      }
    },
    {
      "cell_type": "code",
      "source": [
        "# # create service account\n",
        "# gc = gspread.authorize(credentials) - already done above so we just move to the next step"
      ],
      "metadata": {
        "id": "td-x_OtKLETZ"
      },
      "execution_count": 40,
      "outputs": []
    },
    {
      "cell_type": "code",
      "source": [
        "# create a spreadsheet\n",
        "sheet = client.open(\"Pandas to GSheets\")"
      ],
      "metadata": {
        "id": "gJPGDkaRJAhV"
      },
      "execution_count": 39,
      "outputs": []
    },
    {
      "cell_type": "code",
      "source": [
        "# generate dummy dataset\n",
        "# df = pd.util.testing.makeTimeDataFrame().head()"
      ],
      "metadata": {
        "id": "vnZbeKXEF8ZE"
      },
      "execution_count": null,
      "outputs": []
    },
    {
      "cell_type": "code",
      "source": [
        "# generate dummy df using Faker library\n",
        "fakeProfile = Faker()\n",
        "\n",
        "# generate IO profiles\n",
        "profiles = [fakeProfile.simple_profile() for i in range(15)]\n",
        "\n",
        "# save profiles in df\n",
        "df = pd.DataFrame(profiles)\n",
        "\n",
        "# convert datetime to string becasue json serializer cant serialize datetime type\n",
        "df['birthdate'] = df['birthdate'].astype(\"string\")\n",
        "                  \n",
        "            "
      ],
      "metadata": {
        "id": "I-AoEB1p6dr-"
      },
      "execution_count": 47,
      "outputs": []
    },
    {
      "cell_type": "code",
      "source": [
        "df.shape"
      ],
      "metadata": {
        "colab": {
          "base_uri": "https://localhost:8080/"
        },
        "id": "IppJ7lPnH6nd",
        "outputId": "e448691d-2a0f-4b72-9d3a-c89ecaf5dfef"
      },
      "execution_count": 48,
      "outputs": [
        {
          "output_type": "execute_result",
          "data": {
            "text/plain": [
              "(15, 6)"
            ]
          },
          "metadata": {},
          "execution_count": 48
        }
      ]
    },
    {
      "cell_type": "code",
      "source": [
        "df.head()"
      ],
      "metadata": {
        "colab": {
          "base_uri": "https://localhost:8080/",
          "height": 206
        },
        "id": "2r1zZDv7HrRC",
        "outputId": "60c1702b-79f7-4823-ddac-418bdb3fb23f"
      },
      "execution_count": 49,
      "outputs": [
        {
          "output_type": "execute_result",
          "data": {
            "text/plain": [
              "      username            name sex  \\\n",
              "0   danielle53   Jeremy Warren   M   \n",
              "1  munozandrea  Tonya Thompson   F   \n",
              "2    melanie11    Joshua Cohen   M   \n",
              "3    sheilacox   Jeanne Arnold   F   \n",
              "4      jamie94  Kevin Ferguson   M   \n",
              "\n",
              "                                             address  \\\n",
              "0  101 Daniel Flat Suite 300\\nSullivanside, NV 65198   \n",
              "1         98990 Sarah Square\\nNew Jonathan, CT 33512   \n",
              "2            095 Emily Squares\\nJudithfurt, CA 30438   \n",
              "3  12265 Foster Center Suite 229\\nPort Tiffany, M...   \n",
              "4       3464 Ellison Wall\\nMartinezchester, VA 58359   \n",
              "\n",
              "                       mail   birthdate  \n",
              "0         debra65@gmail.com  1990-03-01  \n",
              "1     bryanwright@gmail.com  1990-06-17  \n",
              "2     heidilane@hotmail.com  1958-02-27  \n",
              "3  judithferguson@gmail.com  1966-05-31  \n",
              "4        rlopez@hotmail.com  2003-12-01  "
            ],
            "text/html": [
              "\n",
              "  <div id=\"df-7e4937b3-1ac8-4574-bd92-3dfccd2a93d0\">\n",
              "    <div class=\"colab-df-container\">\n",
              "      <div>\n",
              "<style scoped>\n",
              "    .dataframe tbody tr th:only-of-type {\n",
              "        vertical-align: middle;\n",
              "    }\n",
              "\n",
              "    .dataframe tbody tr th {\n",
              "        vertical-align: top;\n",
              "    }\n",
              "\n",
              "    .dataframe thead th {\n",
              "        text-align: right;\n",
              "    }\n",
              "</style>\n",
              "<table border=\"1\" class=\"dataframe\">\n",
              "  <thead>\n",
              "    <tr style=\"text-align: right;\">\n",
              "      <th></th>\n",
              "      <th>username</th>\n",
              "      <th>name</th>\n",
              "      <th>sex</th>\n",
              "      <th>address</th>\n",
              "      <th>mail</th>\n",
              "      <th>birthdate</th>\n",
              "    </tr>\n",
              "  </thead>\n",
              "  <tbody>\n",
              "    <tr>\n",
              "      <th>0</th>\n",
              "      <td>danielle53</td>\n",
              "      <td>Jeremy Warren</td>\n",
              "      <td>M</td>\n",
              "      <td>101 Daniel Flat Suite 300\\nSullivanside, NV 65198</td>\n",
              "      <td>debra65@gmail.com</td>\n",
              "      <td>1990-03-01</td>\n",
              "    </tr>\n",
              "    <tr>\n",
              "      <th>1</th>\n",
              "      <td>munozandrea</td>\n",
              "      <td>Tonya Thompson</td>\n",
              "      <td>F</td>\n",
              "      <td>98990 Sarah Square\\nNew Jonathan, CT 33512</td>\n",
              "      <td>bryanwright@gmail.com</td>\n",
              "      <td>1990-06-17</td>\n",
              "    </tr>\n",
              "    <tr>\n",
              "      <th>2</th>\n",
              "      <td>melanie11</td>\n",
              "      <td>Joshua Cohen</td>\n",
              "      <td>M</td>\n",
              "      <td>095 Emily Squares\\nJudithfurt, CA 30438</td>\n",
              "      <td>heidilane@hotmail.com</td>\n",
              "      <td>1958-02-27</td>\n",
              "    </tr>\n",
              "    <tr>\n",
              "      <th>3</th>\n",
              "      <td>sheilacox</td>\n",
              "      <td>Jeanne Arnold</td>\n",
              "      <td>F</td>\n",
              "      <td>12265 Foster Center Suite 229\\nPort Tiffany, M...</td>\n",
              "      <td>judithferguson@gmail.com</td>\n",
              "      <td>1966-05-31</td>\n",
              "    </tr>\n",
              "    <tr>\n",
              "      <th>4</th>\n",
              "      <td>jamie94</td>\n",
              "      <td>Kevin Ferguson</td>\n",
              "      <td>M</td>\n",
              "      <td>3464 Ellison Wall\\nMartinezchester, VA 58359</td>\n",
              "      <td>rlopez@hotmail.com</td>\n",
              "      <td>2003-12-01</td>\n",
              "    </tr>\n",
              "  </tbody>\n",
              "</table>\n",
              "</div>\n",
              "      <button class=\"colab-df-convert\" onclick=\"convertToInteractive('df-7e4937b3-1ac8-4574-bd92-3dfccd2a93d0')\"\n",
              "              title=\"Convert this dataframe to an interactive table.\"\n",
              "              style=\"display:none;\">\n",
              "        \n",
              "  <svg xmlns=\"http://www.w3.org/2000/svg\" height=\"24px\"viewBox=\"0 0 24 24\"\n",
              "       width=\"24px\">\n",
              "    <path d=\"M0 0h24v24H0V0z\" fill=\"none\"/>\n",
              "    <path d=\"M18.56 5.44l.94 2.06.94-2.06 2.06-.94-2.06-.94-.94-2.06-.94 2.06-2.06.94zm-11 1L8.5 8.5l.94-2.06 2.06-.94-2.06-.94L8.5 2.5l-.94 2.06-2.06.94zm10 10l.94 2.06.94-2.06 2.06-.94-2.06-.94-.94-2.06-.94 2.06-2.06.94z\"/><path d=\"M17.41 7.96l-1.37-1.37c-.4-.4-.92-.59-1.43-.59-.52 0-1.04.2-1.43.59L10.3 9.45l-7.72 7.72c-.78.78-.78 2.05 0 2.83L4 21.41c.39.39.9.59 1.41.59.51 0 1.02-.2 1.41-.59l7.78-7.78 2.81-2.81c.8-.78.8-2.07 0-2.86zM5.41 20L4 18.59l7.72-7.72 1.47 1.35L5.41 20z\"/>\n",
              "  </svg>\n",
              "      </button>\n",
              "      \n",
              "  <style>\n",
              "    .colab-df-container {\n",
              "      display:flex;\n",
              "      flex-wrap:wrap;\n",
              "      gap: 12px;\n",
              "    }\n",
              "\n",
              "    .colab-df-convert {\n",
              "      background-color: #E8F0FE;\n",
              "      border: none;\n",
              "      border-radius: 50%;\n",
              "      cursor: pointer;\n",
              "      display: none;\n",
              "      fill: #1967D2;\n",
              "      height: 32px;\n",
              "      padding: 0 0 0 0;\n",
              "      width: 32px;\n",
              "    }\n",
              "\n",
              "    .colab-df-convert:hover {\n",
              "      background-color: #E2EBFA;\n",
              "      box-shadow: 0px 1px 2px rgba(60, 64, 67, 0.3), 0px 1px 3px 1px rgba(60, 64, 67, 0.15);\n",
              "      fill: #174EA6;\n",
              "    }\n",
              "\n",
              "    [theme=dark] .colab-df-convert {\n",
              "      background-color: #3B4455;\n",
              "      fill: #D2E3FC;\n",
              "    }\n",
              "\n",
              "    [theme=dark] .colab-df-convert:hover {\n",
              "      background-color: #434B5C;\n",
              "      box-shadow: 0px 1px 3px 1px rgba(0, 0, 0, 0.15);\n",
              "      filter: drop-shadow(0px 1px 2px rgba(0, 0, 0, 0.3));\n",
              "      fill: #FFFFFF;\n",
              "    }\n",
              "  </style>\n",
              "\n",
              "      <script>\n",
              "        const buttonEl =\n",
              "          document.querySelector('#df-7e4937b3-1ac8-4574-bd92-3dfccd2a93d0 button.colab-df-convert');\n",
              "        buttonEl.style.display =\n",
              "          google.colab.kernel.accessAllowed ? 'block' : 'none';\n",
              "\n",
              "        async function convertToInteractive(key) {\n",
              "          const element = document.querySelector('#df-7e4937b3-1ac8-4574-bd92-3dfccd2a93d0');\n",
              "          const dataTable =\n",
              "            await google.colab.kernel.invokeFunction('convertToInteractive',\n",
              "                                                     [key], {});\n",
              "          if (!dataTable) return;\n",
              "\n",
              "          const docLinkHtml = 'Like what you see? Visit the ' +\n",
              "            '<a target=\"_blank\" href=https://colab.research.google.com/notebooks/data_table.ipynb>data table notebook</a>'\n",
              "            + ' to learn more about interactive tables.';\n",
              "          element.innerHTML = '';\n",
              "          dataTable['output_type'] = 'display_data';\n",
              "          await google.colab.output.renderOutput(dataTable, element);\n",
              "          const docLink = document.createElement('div');\n",
              "          docLink.innerHTML = docLinkHtml;\n",
              "          element.appendChild(docLink);\n",
              "        }\n",
              "      </script>\n",
              "    </div>\n",
              "  </div>\n",
              "  "
            ]
          },
          "metadata": {},
          "execution_count": 49
        }
      ]
    },
    {
      "cell_type": "code",
      "source": [
        "# create new worksheet names Pandas\n",
        "worksheet = sheet.add_worksheet(title = \"Pandas\", rows = df.shape[0], cols = df.shape[1])"
      ],
      "metadata": {
        "id": "hI3fOXDm7asc"
      },
      "execution_count": 50,
      "outputs": []
    },
    {
      "cell_type": "code",
      "source": [
        "# insert df to specified sheet\n",
        "worksheet.update([df.columns.values.tolist()] + df.values.tolist())"
      ],
      "metadata": {
        "id": "oN2kvzYSHxZS",
        "colab": {
          "base_uri": "https://localhost:8080/"
        },
        "outputId": "d17e913a-6803-4dd9-f75e-2fa8161ede1f"
      },
      "execution_count": 51,
      "outputs": [
        {
          "output_type": "execute_result",
          "data": {
            "text/plain": [
              "{'spreadsheetId': '1GN5QABY-Mm39d34ljSbVc4nA0rTpaFy4BXS0CY1kZuQ',\n",
              " 'updatedCells': 96,\n",
              " 'updatedColumns': 6,\n",
              " 'updatedRange': 'Pandas!A1:F16',\n",
              " 'updatedRows': 16}"
            ]
          },
          "metadata": {},
          "execution_count": 51
        }
      ]
    },
    {
      "cell_type": "code",
      "source": [
        "# append one row to the sheet\n",
        "worksheet.append_row(df.loc[0].values.tolist())"
      ],
      "metadata": {
        "colab": {
          "base_uri": "https://localhost:8080/"
        },
        "id": "A_RBOmdh8Srt",
        "outputId": "385d38d8-a19f-46c7-e4d7-dac3aa95ba10"
      },
      "execution_count": 55,
      "outputs": [
        {
          "output_type": "execute_result",
          "data": {
            "text/plain": [
              "{'spreadsheetId': '1GN5QABY-Mm39d34ljSbVc4nA0rTpaFy4BXS0CY1kZuQ',\n",
              " 'tableRange': 'Pandas!A1:F16',\n",
              " 'updates': {'spreadsheetId': '1GN5QABY-Mm39d34ljSbVc4nA0rTpaFy4BXS0CY1kZuQ',\n",
              "  'updatedCells': 6,\n",
              "  'updatedColumns': 6,\n",
              "  'updatedRange': 'Pandas!A17:F17',\n",
              "  'updatedRows': 1}}"
            ]
          },
          "metadata": {},
          "execution_count": 55
        }
      ]
    },
    {
      "cell_type": "code",
      "source": [
        "# append the whole df to the sheet\n",
        "worksheet.append_rows(df.values.tolist())\n"
      ],
      "metadata": {
        "colab": {
          "base_uri": "https://localhost:8080/"
        },
        "id": "cCP_R3wV8Sfu",
        "outputId": "5bffb5ec-53ea-413a-9048-ba1ecfcc032e"
      },
      "execution_count": 57,
      "outputs": [
        {
          "output_type": "execute_result",
          "data": {
            "text/plain": [
              "{'spreadsheetId': '1GN5QABY-Mm39d34ljSbVc4nA0rTpaFy4BXS0CY1kZuQ',\n",
              " 'tableRange': 'Pandas!A1:F17',\n",
              " 'updates': {'spreadsheetId': '1GN5QABY-Mm39d34ljSbVc4nA0rTpaFy4BXS0CY1kZuQ',\n",
              "  'updatedCells': 90,\n",
              "  'updatedColumns': 6,\n",
              "  'updatedRange': 'Pandas!A18:F32',\n",
              "  'updatedRows': 15}}"
            ]
          },
          "metadata": {},
          "execution_count": 57
        }
      ]
    },
    {
      "cell_type": "code",
      "source": [
        ""
      ],
      "metadata": {
        "id": "PlAZjGY98STP"
      },
      "execution_count": null,
      "outputs": []
    },
    {
      "cell_type": "markdown",
      "source": [
        "\n",
        "References : \n",
        "\n",
        "---\n",
        "\n",
        "\n",
        "- [How can I Export Pandas DataFrame to Google Sheets using Python?](https://stackoverflow.com/questions/62917910/how-can-i-export-pandas-dataframe-to-google-sheets-using-python)\n",
        "\n",
        "- [Google Sheets API docs](https://developers.google.com/sheets/api/reference/rest#rest-resource:-v4.spreadsheets.sheets)\n",
        "\n",
        "- [How To Create Dummy Datasets In Python](https://predictivehacks.com/how-to-create-dummy-pandas-data-frames/)\n",
        "\n",
        "- [Gspread Documentation](https://docs.gspread.org/en/latest/)\n",
        "\n",
        "- [Gspread Authentication](https://docs.gspread.org/en/latest/oauth2.html)\n",
        "\n",
        "- [Using gspread with pandas](https://docs.gspread.org/en/latest/user-guide.html#using-gspread-with-pandas)\n",
        "\n",
        "Youtube References : \n",
        "\n",
        "---\n",
        "\n",
        "\n",
        "- [Python Gspread Tutorial + How To Use the Google Sheets API with Python](https://www.youtube.com/watch?v=ddf5Z0aQPzY&list=TLPQMjMwNDIwMjJIl-Bnr6TFzg&index=3)\n",
        "\n",
        "- [Add Pandas dataframe to Google Sheet](https://www.youtube.com/watch?v=GrFRKGMKpCU)"
      ],
      "metadata": {
        "id": "iPyPF2zwFO2Y"
      }
    },
    {
      "cell_type": "code",
      "source": [
        ""
      ],
      "metadata": {
        "id": "Un8-SU1qnNK4"
      },
      "execution_count": null,
      "outputs": []
    }
  ]
}